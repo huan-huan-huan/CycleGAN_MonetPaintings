{
  "nbformat": 4,
  "nbformat_minor": 0,
  "metadata": {
    "colab": {
      "name": "CycleGAN Monet",
      "provenance": [],
      "collapsed_sections": []
    },
    "kernelspec": {
      "name": "python3",
      "display_name": "Python 3"
    },
    "language_info": {
      "name": "python"
    },
    "accelerator": "TPU"
  },
  "cells": [
    {
      "cell_type": "code",
      "metadata": {
        "id": "MPm97KmSAEvB",
        "colab": {
          "base_uri": "https://localhost:8080/"
        },
        "outputId": "038e6a1d-066d-467a-cf7e-c181217c1806"
      },
      "source": [
        "!pip install tensorflow-addons\n",
        "!pip install kaggle\n",
        "!mkdir ~/.kaggle/"
      ],
      "execution_count": null,
      "outputs": [
        {
          "output_type": "stream",
          "name": "stdout",
          "text": [
            "Requirement already satisfied: tensorflow-addons in /usr/local/lib/python3.7/dist-packages (0.15.0)\n",
            "Requirement already satisfied: typeguard>=2.7 in /usr/local/lib/python3.7/dist-packages (from tensorflow-addons) (2.7.1)\n",
            "Requirement already satisfied: kaggle in /usr/local/lib/python3.7/dist-packages (1.5.12)\n",
            "Requirement already satisfied: python-dateutil in /usr/local/lib/python3.7/dist-packages (from kaggle) (2.8.2)\n",
            "Requirement already satisfied: python-slugify in /usr/local/lib/python3.7/dist-packages (from kaggle) (5.0.2)\n",
            "Requirement already satisfied: tqdm in /usr/local/lib/python3.7/dist-packages (from kaggle) (4.62.3)\n",
            "Requirement already satisfied: urllib3 in /usr/local/lib/python3.7/dist-packages (from kaggle) (1.24.3)\n",
            "Requirement already satisfied: requests in /usr/local/lib/python3.7/dist-packages (from kaggle) (2.23.0)\n",
            "Requirement already satisfied: six>=1.10 in /usr/local/lib/python3.7/dist-packages (from kaggle) (1.15.0)\n",
            "Requirement already satisfied: certifi in /usr/local/lib/python3.7/dist-packages (from kaggle) (2021.10.8)\n",
            "Requirement already satisfied: text-unidecode>=1.3 in /usr/local/lib/python3.7/dist-packages (from python-slugify->kaggle) (1.3)\n",
            "Requirement already satisfied: chardet<4,>=3.0.2 in /usr/local/lib/python3.7/dist-packages (from requests->kaggle) (3.0.4)\n",
            "Requirement already satisfied: idna<3,>=2.5 in /usr/local/lib/python3.7/dist-packages (from requests->kaggle) (2.10)\n",
            "mkdir: cannot create directory ‘/root/.kaggle/’: File exists\n"
          ]
        }
      ]
    },
    {
      "cell_type": "code",
      "metadata": {
        "id": "1jnI9OVZUu1v"
      },
      "source": [
        "import tensorflow as tf\n",
        "from tensorflow import keras\n",
        "from tensorflow.keras import layers\n",
        "import tensorflow_addons as tfa\n",
        "from google.colab import drive\n",
        "import matplotlib.pyplot as plt\n",
        "import numpy as np\n",
        "import pandas as pd\n",
        "import os"
      ],
      "execution_count": null,
      "outputs": []
    },
    {
      "cell_type": "code",
      "metadata": {
        "colab": {
          "base_uri": "https://localhost:8080/"
        },
        "id": "tOk1CozWZkPS",
        "outputId": "4feac343-ff9d-4655-c0d9-80e030b898ef"
      },
      "source": [
        "try:\n",
        "    tpu = tf.distribute.cluster_resolver.TPUClusterResolver()\n",
        "    print('Device:', tpu.master())\n",
        "    tf.config.experimental_connect_to_cluster(tpu)\n",
        "    tf.tpu.experimental.initialize_tpu_system(tpu)\n",
        "    strategy = tf.distribute.experimental.TPUStrategy(tpu)\n",
        "except:\n",
        "    strategy = tf.distribute.get_strategy()\n",
        "print('Number of replicas:', strategy.num_replicas_in_sync)\n",
        "\n",
        "AUTOTUNE = tf.data.experimental.AUTOTUNE\n",
        "    \n",
        "print(tf.__version__)"
      ],
      "execution_count": null,
      "outputs": [
        {
          "output_type": "stream",
          "name": "stdout",
          "text": [
            "Device: grpc://10.12.63.58:8470\n",
            "INFO:tensorflow:Deallocate tpu buffers before initializing tpu system.\n"
          ]
        },
        {
          "output_type": "stream",
          "name": "stderr",
          "text": [
            "INFO:tensorflow:Deallocate tpu buffers before initializing tpu system.\n"
          ]
        },
        {
          "output_type": "stream",
          "name": "stdout",
          "text": [
            "WARNING:tensorflow:TPU system grpc://10.12.63.58:8470 has already been initialized. Reinitializing the TPU can cause previously created variables on TPU to be lost.\n"
          ]
        },
        {
          "output_type": "stream",
          "name": "stderr",
          "text": [
            "WARNING:tensorflow:TPU system grpc://10.12.63.58:8470 has already been initialized. Reinitializing the TPU can cause previously created variables on TPU to be lost.\n"
          ]
        },
        {
          "output_type": "stream",
          "name": "stdout",
          "text": [
            "INFO:tensorflow:Initializing the TPU system: grpc://10.12.63.58:8470\n"
          ]
        },
        {
          "output_type": "stream",
          "name": "stderr",
          "text": [
            "INFO:tensorflow:Initializing the TPU system: grpc://10.12.63.58:8470\n"
          ]
        },
        {
          "output_type": "stream",
          "name": "stdout",
          "text": [
            "INFO:tensorflow:Finished initializing TPU system.\n"
          ]
        },
        {
          "output_type": "stream",
          "name": "stderr",
          "text": [
            "INFO:tensorflow:Finished initializing TPU system.\n",
            "WARNING:absl:`tf.distribute.experimental.TPUStrategy` is deprecated, please use  the non experimental symbol `tf.distribute.TPUStrategy` instead.\n"
          ]
        },
        {
          "output_type": "stream",
          "name": "stdout",
          "text": [
            "INFO:tensorflow:Found TPU system:\n"
          ]
        },
        {
          "output_type": "stream",
          "name": "stderr",
          "text": [
            "INFO:tensorflow:Found TPU system:\n"
          ]
        },
        {
          "output_type": "stream",
          "name": "stdout",
          "text": [
            "INFO:tensorflow:*** Num TPU Cores: 8\n"
          ]
        },
        {
          "output_type": "stream",
          "name": "stderr",
          "text": [
            "INFO:tensorflow:*** Num TPU Cores: 8\n"
          ]
        },
        {
          "output_type": "stream",
          "name": "stdout",
          "text": [
            "INFO:tensorflow:*** Num TPU Workers: 1\n"
          ]
        },
        {
          "output_type": "stream",
          "name": "stderr",
          "text": [
            "INFO:tensorflow:*** Num TPU Workers: 1\n"
          ]
        },
        {
          "output_type": "stream",
          "name": "stdout",
          "text": [
            "INFO:tensorflow:*** Num TPU Cores Per Worker: 8\n"
          ]
        },
        {
          "output_type": "stream",
          "name": "stderr",
          "text": [
            "INFO:tensorflow:*** Num TPU Cores Per Worker: 8\n"
          ]
        },
        {
          "output_type": "stream",
          "name": "stdout",
          "text": [
            "INFO:tensorflow:*** Available Device: _DeviceAttributes(/job:localhost/replica:0/task:0/device:CPU:0, CPU, 0, 0)\n"
          ]
        },
        {
          "output_type": "stream",
          "name": "stderr",
          "text": [
            "INFO:tensorflow:*** Available Device: _DeviceAttributes(/job:localhost/replica:0/task:0/device:CPU:0, CPU, 0, 0)\n"
          ]
        },
        {
          "output_type": "stream",
          "name": "stdout",
          "text": [
            "INFO:tensorflow:*** Available Device: _DeviceAttributes(/job:worker/replica:0/task:0/device:CPU:0, CPU, 0, 0)\n"
          ]
        },
        {
          "output_type": "stream",
          "name": "stderr",
          "text": [
            "INFO:tensorflow:*** Available Device: _DeviceAttributes(/job:worker/replica:0/task:0/device:CPU:0, CPU, 0, 0)\n"
          ]
        },
        {
          "output_type": "stream",
          "name": "stdout",
          "text": [
            "INFO:tensorflow:*** Available Device: _DeviceAttributes(/job:worker/replica:0/task:0/device:TPU:0, TPU, 0, 0)\n"
          ]
        },
        {
          "output_type": "stream",
          "name": "stderr",
          "text": [
            "INFO:tensorflow:*** Available Device: _DeviceAttributes(/job:worker/replica:0/task:0/device:TPU:0, TPU, 0, 0)\n"
          ]
        },
        {
          "output_type": "stream",
          "name": "stdout",
          "text": [
            "INFO:tensorflow:*** Available Device: _DeviceAttributes(/job:worker/replica:0/task:0/device:TPU:1, TPU, 0, 0)\n"
          ]
        },
        {
          "output_type": "stream",
          "name": "stderr",
          "text": [
            "INFO:tensorflow:*** Available Device: _DeviceAttributes(/job:worker/replica:0/task:0/device:TPU:1, TPU, 0, 0)\n"
          ]
        },
        {
          "output_type": "stream",
          "name": "stdout",
          "text": [
            "INFO:tensorflow:*** Available Device: _DeviceAttributes(/job:worker/replica:0/task:0/device:TPU:2, TPU, 0, 0)\n"
          ]
        },
        {
          "output_type": "stream",
          "name": "stderr",
          "text": [
            "INFO:tensorflow:*** Available Device: _DeviceAttributes(/job:worker/replica:0/task:0/device:TPU:2, TPU, 0, 0)\n"
          ]
        },
        {
          "output_type": "stream",
          "name": "stdout",
          "text": [
            "INFO:tensorflow:*** Available Device: _DeviceAttributes(/job:worker/replica:0/task:0/device:TPU:3, TPU, 0, 0)\n"
          ]
        },
        {
          "output_type": "stream",
          "name": "stderr",
          "text": [
            "INFO:tensorflow:*** Available Device: _DeviceAttributes(/job:worker/replica:0/task:0/device:TPU:3, TPU, 0, 0)\n"
          ]
        },
        {
          "output_type": "stream",
          "name": "stdout",
          "text": [
            "INFO:tensorflow:*** Available Device: _DeviceAttributes(/job:worker/replica:0/task:0/device:TPU:4, TPU, 0, 0)\n"
          ]
        },
        {
          "output_type": "stream",
          "name": "stderr",
          "text": [
            "INFO:tensorflow:*** Available Device: _DeviceAttributes(/job:worker/replica:0/task:0/device:TPU:4, TPU, 0, 0)\n"
          ]
        },
        {
          "output_type": "stream",
          "name": "stdout",
          "text": [
            "INFO:tensorflow:*** Available Device: _DeviceAttributes(/job:worker/replica:0/task:0/device:TPU:5, TPU, 0, 0)\n"
          ]
        },
        {
          "output_type": "stream",
          "name": "stderr",
          "text": [
            "INFO:tensorflow:*** Available Device: _DeviceAttributes(/job:worker/replica:0/task:0/device:TPU:5, TPU, 0, 0)\n"
          ]
        },
        {
          "output_type": "stream",
          "name": "stdout",
          "text": [
            "INFO:tensorflow:*** Available Device: _DeviceAttributes(/job:worker/replica:0/task:0/device:TPU:6, TPU, 0, 0)\n"
          ]
        },
        {
          "output_type": "stream",
          "name": "stderr",
          "text": [
            "INFO:tensorflow:*** Available Device: _DeviceAttributes(/job:worker/replica:0/task:0/device:TPU:6, TPU, 0, 0)\n"
          ]
        },
        {
          "output_type": "stream",
          "name": "stdout",
          "text": [
            "INFO:tensorflow:*** Available Device: _DeviceAttributes(/job:worker/replica:0/task:0/device:TPU:7, TPU, 0, 0)\n"
          ]
        },
        {
          "output_type": "stream",
          "name": "stderr",
          "text": [
            "INFO:tensorflow:*** Available Device: _DeviceAttributes(/job:worker/replica:0/task:0/device:TPU:7, TPU, 0, 0)\n"
          ]
        },
        {
          "output_type": "stream",
          "name": "stdout",
          "text": [
            "INFO:tensorflow:*** Available Device: _DeviceAttributes(/job:worker/replica:0/task:0/device:TPU_SYSTEM:0, TPU_SYSTEM, 0, 0)\n"
          ]
        },
        {
          "output_type": "stream",
          "name": "stderr",
          "text": [
            "INFO:tensorflow:*** Available Device: _DeviceAttributes(/job:worker/replica:0/task:0/device:TPU_SYSTEM:0, TPU_SYSTEM, 0, 0)\n"
          ]
        },
        {
          "output_type": "stream",
          "name": "stdout",
          "text": [
            "INFO:tensorflow:*** Available Device: _DeviceAttributes(/job:worker/replica:0/task:0/device:XLA_CPU:0, XLA_CPU, 0, 0)\n"
          ]
        },
        {
          "output_type": "stream",
          "name": "stderr",
          "text": [
            "INFO:tensorflow:*** Available Device: _DeviceAttributes(/job:worker/replica:0/task:0/device:XLA_CPU:0, XLA_CPU, 0, 0)\n"
          ]
        },
        {
          "output_type": "stream",
          "name": "stdout",
          "text": [
            "Number of replicas: 8\n",
            "2.7.0\n"
          ]
        }
      ]
    },
    {
      "cell_type": "code",
      "metadata": {
        "id": "BHuud-nibn1l",
        "colab": {
          "base_uri": "https://localhost:8080/"
        },
        "outputId": "f0b1791b-f9aa-4a82-fdaf-e046e269c7d6"
      },
      "source": [
        "google_drive_path = '/content/gdrive/'\n",
        "drive.mount('/content/gdrive/')"
      ],
      "execution_count": null,
      "outputs": [
        {
          "output_type": "stream",
          "name": "stdout",
          "text": [
            "Mounted at /content/gdrive/\n"
          ]
        }
      ]
    },
    {
      "cell_type": "code",
      "metadata": {
        "id": "D4yyOXyZVQd0",
        "colab": {
          "base_uri": "https://localhost:8080/"
        },
        "outputId": "d660a5b5-409f-4b4f-811a-8b6429fd5af5"
      },
      "source": [
        "!cp /content/gdrive/MyDrive/kaggle.json ~/.kaggle/kaggle.json\n",
        "!kaggle competitions download gan-getting-started"
      ],
      "execution_count": null,
      "outputs": [
        {
          "output_type": "stream",
          "name": "stdout",
          "text": [
            "Warning: Looks like you're using an outdated API Version, please consider updating (server 1.5.12 / client 1.5.4)\n",
            "Downloading 009d534136.jpg to /content\n",
            "  0% 0.00/12.9k [00:00<?, ?B/s]\n",
            "100% 12.9k/12.9k [00:00<00:00, 9.87MB/s]\n",
            "Downloading 00c6a0ad1e.jpg to /content\n",
            "  0% 0.00/19.3k [00:00<?, ?B/s]\n",
            "100% 19.3k/19.3k [00:00<00:00, 18.1MB/s]\n",
            "Downloading 00882b7e1d.jpg to /content\n",
            "  0% 0.00/8.27k [00:00<?, ?B/s]\n",
            "100% 8.27k/8.27k [00:00<00:00, 4.11MB/s]\n",
            "Downloading 0033c5f971.jpg to /content\n",
            "  0% 0.00/9.20k [00:00<?, ?B/s]\n",
            "100% 9.20k/9.20k [00:00<00:00, 22.1MB/s]\n",
            "Downloading 001158d595.jpg to /content\n",
            "  0% 0.00/10.9k [00:00<?, ?B/s]\n",
            "100% 10.9k/10.9k [00:00<00:00, 10.5MB/s]\n",
            "Downloading 000ded5c41.jpg to /content\n",
            "  0% 0.00/9.82k [00:00<?, ?B/s]\n",
            "100% 9.82k/9.82k [00:00<00:00, 14.6MB/s]\n",
            "Downloading 00dcf0f1e3.jpg to /content\n",
            "  0% 0.00/12.2k [00:00<?, ?B/s]\n",
            "100% 12.2k/12.2k [00:00<00:00, 11.8MB/s]\n",
            "Downloading 009ddaed1f.jpg to /content\n",
            "  0% 0.00/16.4k [00:00<?, ?B/s]\n",
            "100% 16.4k/16.4k [00:00<00:00, 16.5MB/s]\n",
            "Downloading 0039ebb598.jpg to /content\n",
            "  0% 0.00/8.66k [00:00<?, ?B/s]\n",
            "100% 8.66k/8.66k [00:00<00:00, 9.08MB/s]\n",
            "Downloading 00e1798585.jpg to /content\n",
            "  0% 0.00/13.5k [00:00<?, ?B/s]\n",
            "100% 13.5k/13.5k [00:00<00:00, 13.5MB/s]\n",
            "Downloading 00aeb60e25.jpg to /content\n",
            "  0% 0.00/13.5k [00:00<?, ?B/s]\n",
            "100% 13.5k/13.5k [00:00<00:00, 13.3MB/s]\n",
            "Downloading 003aab6fdd.jpg to /content\n",
            "  0% 0.00/22.8k [00:00<?, ?B/s]\n",
            "100% 22.8k/22.8k [00:00<00:00, 23.0MB/s]\n",
            "Downloading 0080f94ebc.jpg to /content\n",
            "  0% 0.00/8.17k [00:00<?, ?B/s]\n",
            "100% 8.17k/8.17k [00:00<00:00, 16.1MB/s]\n",
            "Downloading 005f987f56.jpg to /content\n",
            "  0% 0.00/4.28k [00:00<?, ?B/s]\n",
            "100% 4.28k/4.28k [00:00<00:00, 4.32MB/s]\n",
            "Downloading 000910d219.jpg to /content\n",
            "  0% 0.00/15.3k [00:00<?, ?B/s]\n",
            "100% 15.3k/15.3k [00:00<00:00, 36.0MB/s]\n",
            "Downloading 00479e2a21.jpg to /content\n",
            "  0% 0.00/5.99k [00:00<?, ?B/s]\n",
            "100% 5.99k/5.99k [00:00<00:00, 5.92MB/s]\n",
            "Downloading 00068bc07f.jpg to /content\n",
            "  0% 0.00/14.4k [00:00<?, ?B/s]\n",
            "100% 14.4k/14.4k [00:00<00:00, 13.9MB/s]\n",
            "Downloading 00104fd531.jpg to /content\n",
            "  0% 0.00/7.76k [00:00<?, ?B/s]\n",
            "100% 7.76k/7.76k [00:00<00:00, 17.7MB/s]\n",
            "Downloading 00dff09ebe.jpg to /content\n",
            "  0% 0.00/10.1k [00:00<?, ?B/s]\n",
            "100% 10.1k/10.1k [00:00<00:00, 9.97MB/s]\n",
            "Downloading 003c6c30e0.jpg to /content\n",
            "  0% 0.00/13.5k [00:00<?, ?B/s]\n",
            "100% 13.5k/13.5k [00:00<00:00, 34.4MB/s]\n",
            "Downloading photo14-352.tfrec.zip to /content\n",
            " 46% 6.00M/13.2M [00:00<00:00, 59.5MB/s]\n",
            "100% 13.2M/13.2M [00:00<00:00, 81.6MB/s]\n",
            "Downloading photo04-352.tfrec.zip to /content\n",
            " 68% 9.00M/13.1M [00:00<00:00, 28.3MB/s]\n",
            "100% 13.1M/13.1M [00:00<00:00, 29.6MB/s]\n",
            "Downloading photo18-352.tfrec.zip to /content\n",
            " 40% 5.00M/12.6M [00:00<00:00, 44.7MB/s]\n",
            "100% 12.6M/12.6M [00:00<00:00, 80.7MB/s]\n",
            "Downloading photo16-352.tfrec.zip to /content\n",
            " 39% 5.00M/12.8M [00:00<00:00, 44.7MB/s]\n",
            "100% 12.8M/12.8M [00:00<00:00, 62.7MB/s]\n",
            "Downloading photo09-352.tfrec.zip to /content\n",
            " 38% 5.00M/13.0M [00:00<00:00, 40.0MB/s]\n",
            "100% 13.0M/13.0M [00:00<00:00, 63.7MB/s]\n",
            "Downloading photo12-352.tfrec.zip to /content\n",
            " 39% 5.00M/12.9M [00:00<00:00, 32.6MB/s]\n",
            "100% 12.9M/12.9M [00:00<00:00, 57.7MB/s]\n",
            "Downloading photo11-352.tfrec.zip to /content\n",
            " 45% 6.00M/13.2M [00:00<00:00, 59.9MB/s]\n",
            "100% 13.2M/13.2M [00:00<00:00, 64.6MB/s]\n",
            "Downloading photo03-352.tfrec.zip to /content\n",
            " 71% 9.00M/12.8M [00:00<00:00, 29.2MB/s]\n",
            "100% 12.8M/12.8M [00:00<00:00, 32.2MB/s]\n",
            "Downloading photo19-350.tfrec.zip to /content\n",
            " 46% 6.00M/12.9M [00:00<00:00, 62.3MB/s]\n",
            "100% 12.9M/12.9M [00:00<00:00, 82.3MB/s]\n",
            "Downloading photo06-352.tfrec.zip to /content\n",
            " 77% 10.0M/13.0M [00:00<00:00, 101MB/s]\n",
            "100% 13.0M/13.0M [00:00<00:00, 99.8MB/s]\n",
            "Downloading photo02-352.tfrec.zip to /content\n",
            " 71% 9.00M/12.6M [00:00<00:00, 38.2MB/s]\n",
            "100% 12.6M/12.6M [00:00<00:00, 42.1MB/s]\n",
            "Downloading photo01-352.tfrec.zip to /content\n",
            " 40% 5.00M/12.7M [00:00<00:00, 42.9MB/s]\n",
            "100% 12.7M/12.7M [00:00<00:00, 80.6MB/s]\n",
            "Downloading photo08-352.tfrec.zip to /content\n",
            " 69% 9.00M/13.0M [00:00<00:00, 26.0MB/s]\n",
            "100% 13.0M/13.0M [00:00<00:00, 29.4MB/s]\n",
            "Downloading photo15-352.tfrec.zip to /content\n",
            " 71% 9.00M/12.7M [00:00<00:00, 47.7MB/s]\n",
            "100% 12.7M/12.7M [00:00<00:00, 50.5MB/s]\n",
            "Downloading photo13-352.tfrec.zip to /content\n",
            " 70% 9.00M/12.9M [00:00<00:00, 93.5MB/s]\n",
            "100% 12.9M/12.9M [00:00<00:00, 82.3MB/s]\n",
            "Downloading photo07-352.tfrec.zip to /content\n",
            " 70% 9.00M/12.9M [00:00<00:00, 38.8MB/s]\n",
            "100% 12.9M/12.9M [00:00<00:00, 42.9MB/s]\n",
            "Downloading photo00-352.tfrec.zip to /content\n",
            " 38% 5.00M/13.1M [00:00<00:00, 39.0MB/s]\n",
            "100% 13.1M/13.1M [00:00<00:00, 64.0MB/s]\n",
            "Downloading photo17-352.tfrec.zip to /content\n",
            " 68% 9.00M/13.2M [00:00<00:00, 66.2MB/s]\n",
            "100% 13.2M/13.2M [00:00<00:00, 80.6MB/s]\n",
            "Downloading photo05-352.tfrec.zip to /content\n",
            " 90% 12.0M/13.4M [00:00<00:00, 44.1MB/s]\n",
            "100% 13.4M/13.4M [00:00<00:00, 53.0MB/s]\n",
            "Downloading photo10-352.tfrec.zip to /content\n",
            " 54% 7.00M/13.0M [00:00<00:00, 70.8MB/s]\n",
            "100% 13.0M/13.0M [00:00<00:00, 78.6MB/s]\n",
            "Downloading monet16-60.tfrec.zip to /content\n",
            "  0% 0.00/1.93M [00:00<?, ?B/s]\n",
            "100% 1.93M/1.93M [00:00<00:00, 107MB/s]\n",
            "Downloading monet12-60.tfrec.zip to /content\n",
            "  0% 0.00/1.88M [00:00<?, ?B/s]\n",
            "100% 1.88M/1.88M [00:00<00:00, 127MB/s]\n",
            "Downloading monet08-60.tfrec.zip to /content\n",
            "  0% 0.00/1.87M [00:00<?, ?B/s]\n",
            "100% 1.87M/1.87M [00:00<00:00, 127MB/s]\n",
            "Downloading monet00-60.tfrec.zip to /content\n",
            "  0% 0.00/2.12M [00:00<?, ?B/s]\n",
            "100% 2.12M/2.12M [00:00<00:00, 156MB/s]\n",
            "Downloading monet04-60.tfrec.zip to /content\n",
            "  0% 0.00/1.94M [00:00<?, ?B/s]\n",
            "100% 1.94M/1.94M [00:00<00:00, 134MB/s]\n",
            "Downloading 106757e5d8.jpg to /content\n",
            "  0% 0.00/11.2k [00:00<?, ?B/s]\n",
            "100% 11.2k/11.2k [00:00<00:00, 22.9MB/s]\n",
            "Downloading 1078363ff0.jpg to /content\n",
            "  0% 0.00/17.6k [00:00<?, ?B/s]\n",
            "100% 17.6k/17.6k [00:00<00:00, 18.0MB/s]\n",
            "Downloading 0e3b3292da.jpg to /content\n",
            "  0% 0.00/11.1k [00:00<?, ?B/s]\n",
            "100% 11.1k/11.1k [00:00<00:00, 11.1MB/s]\n",
            "Downloading 10c555c1b1.jpg to /content\n",
            "  0% 0.00/17.6k [00:00<?, ?B/s]\n",
            "100% 17.6k/17.6k [00:00<00:00, 17.3MB/s]\n",
            "Downloading 066fe4cbaa.jpg to /content\n",
            "  0% 0.00/17.9k [00:00<?, ?B/s]\n",
            "100% 17.9k/17.9k [00:00<00:00, 37.0MB/s]\n",
            "Downloading 064487d630.jpg to /content\n",
            "  0% 0.00/13.4k [00:00<?, ?B/s]\n",
            "100% 13.4k/13.4k [00:00<00:00, 32.4MB/s]\n",
            "Downloading 0a5075d42a.jpg to /content\n",
            "  0% 0.00/19.4k [00:00<?, ?B/s]\n",
            "100% 19.4k/19.4k [00:00<00:00, 17.5MB/s]\n",
            "Downloading 05b493ff42.jpg to /content\n",
            "  0% 0.00/15.0k [00:00<?, ?B/s]\n",
            "100% 15.0k/15.0k [00:00<00:00, 15.8MB/s]\n",
            "Downloading 0260d15306.jpg to /content\n",
            "  0% 0.00/10.4k [00:00<?, ?B/s]\n",
            "100% 10.4k/10.4k [00:00<00:00, 10.2MB/s]\n",
            "Downloading 052a77c020.jpg to /content\n",
            "  0% 0.00/18.1k [00:00<?, ?B/s]\n",
            "100% 18.1k/18.1k [00:00<00:00, 20.4MB/s]\n",
            "Downloading 11ab570c5e.jpg to /content\n",
            "  0% 0.00/16.3k [00:00<?, ?B/s]\n",
            "100% 16.3k/16.3k [00:00<00:00, 16.2MB/s]\n",
            "Downloading 05144e306f.jpg to /content\n",
            "  0% 0.00/11.3k [00:00<?, ?B/s]\n",
            "100% 11.3k/11.3k [00:00<00:00, 9.39MB/s]\n",
            "Downloading 09b76b6471.jpg to /content\n",
            "  0% 0.00/25.4k [00:00<?, ?B/s]\n",
            "100% 25.4k/25.4k [00:00<00:00, 24.4MB/s]\n",
            "Downloading 049e293b93.jpg to /content\n",
            "  0% 0.00/11.8k [00:00<?, ?B/s]\n",
            "100% 11.8k/11.8k [00:00<00:00, 12.0MB/s]\n",
            "Downloading 058f878b7c.jpg to /content\n",
            "  0% 0.00/14.7k [00:00<?, ?B/s]\n",
            "100% 14.7k/14.7k [00:00<00:00, 13.5MB/s]\n",
            "Downloading 0bd913dbc7.jpg to /content\n",
            "  0% 0.00/18.0k [00:00<?, ?B/s]\n",
            "100% 18.0k/18.0k [00:00<00:00, 18.2MB/s]\n",
            "Downloading 011835cfbf.jpg to /content\n",
            "  0% 0.00/23.4k [00:00<?, ?B/s]\n",
            "100% 23.4k/23.4k [00:00<00:00, 23.4MB/s]\n",
            "Downloading 118da0690c.jpg to /content\n",
            "  0% 0.00/19.7k [00:00<?, ?B/s]\n",
            "100% 19.7k/19.7k [00:00<00:00, 39.0MB/s]\n",
            "Downloading 000c1e3bff.jpg to /content\n",
            "  0% 0.00/13.0k [00:00<?, ?B/s]\n",
            "100% 13.0k/13.0k [00:00<00:00, 28.8MB/s]\n",
            "Downloading 07fcaee35f.jpg to /content\n",
            "  0% 0.00/9.16k [00:00<?, ?B/s]\n",
            "100% 9.16k/9.16k [00:00<00:00, 19.1MB/s]\n"
          ]
        }
      ]
    },
    {
      "cell_type": "code",
      "metadata": {
        "id": "Y2peBsAsaKd1",
        "colab": {
          "base_uri": "https://localhost:8080/"
        },
        "outputId": "29b680e9-3e9c-4a39-f8a2-805f4b72bcad"
      },
      "source": [
        "!unzip \\*.zip"
      ],
      "execution_count": null,
      "outputs": [
        {
          "output_type": "stream",
          "name": "stdout",
          "text": [
            "Archive:  monet08-60.tfrec.zip\n",
            "  inflating: monet08-60.tfrec        \n",
            "\n",
            "Archive:  photo15-352.tfrec.zip\n",
            "  inflating: photo15-352.tfrec       \n",
            "\n",
            "Archive:  monet16-60.tfrec.zip\n",
            "  inflating: monet16-60.tfrec        \n",
            "\n",
            "Archive:  photo11-352.tfrec.zip\n",
            "  inflating: photo11-352.tfrec       \n",
            "\n",
            "Archive:  photo13-352.tfrec.zip\n",
            "  inflating: photo13-352.tfrec       \n",
            "\n",
            "Archive:  photo08-352.tfrec.zip\n",
            "  inflating: photo08-352.tfrec       \n",
            "\n",
            "Archive:  monet00-60.tfrec.zip\n",
            "  inflating: monet00-60.tfrec        \n",
            "\n",
            "Archive:  photo03-352.tfrec.zip\n",
            "  inflating: photo03-352.tfrec       \n",
            "\n",
            "Archive:  photo04-352.tfrec.zip\n",
            "  inflating: photo04-352.tfrec       \n",
            "\n",
            "Archive:  photo00-352.tfrec.zip\n",
            "  inflating: photo00-352.tfrec       \n",
            "\n",
            "Archive:  photo06-352.tfrec.zip\n",
            "  inflating: photo06-352.tfrec       \n",
            "\n",
            "Archive:  photo18-352.tfrec.zip\n",
            "  inflating: photo18-352.tfrec       \n",
            "\n",
            "Archive:  photo09-352.tfrec.zip\n",
            "  inflating: photo09-352.tfrec       \n",
            "\n",
            "Archive:  photo07-352.tfrec.zip\n",
            "  inflating: photo07-352.tfrec       \n",
            "\n",
            "Archive:  photo14-352.tfrec.zip\n",
            "  inflating: photo14-352.tfrec       \n",
            "\n",
            "Archive:  photo12-352.tfrec.zip\n",
            "  inflating: photo12-352.tfrec       \n",
            "\n",
            "Archive:  monet04-60.tfrec.zip\n",
            "  inflating: monet04-60.tfrec        \n",
            "\n",
            "Archive:  photo05-352.tfrec.zip\n",
            "  inflating: photo05-352.tfrec       \n",
            "\n",
            "Archive:  photo02-352.tfrec.zip\n",
            "  inflating: photo02-352.tfrec       \n",
            "\n",
            "Archive:  photo19-350.tfrec.zip\n",
            "  inflating: photo19-350.tfrec       \n",
            "\n",
            "Archive:  photo17-352.tfrec.zip\n",
            "  inflating: photo17-352.tfrec       \n",
            "\n",
            "Archive:  photo10-352.tfrec.zip\n",
            "  inflating: photo10-352.tfrec       \n",
            "\n",
            "Archive:  photo16-352.tfrec.zip\n",
            "  inflating: photo16-352.tfrec       \n",
            "\n",
            "Archive:  monet12-60.tfrec.zip\n",
            "  inflating: monet12-60.tfrec        \n",
            "\n",
            "Archive:  photo01-352.tfrec.zip\n",
            "  inflating: photo01-352.tfrec       \n",
            "\n",
            "25 archives were successfully processed.\n"
          ]
        }
      ]
    },
    {
      "cell_type": "code",
      "metadata": {
        "id": "sgstt8SbcQ4K",
        "colab": {
          "base_uri": "https://localhost:8080/"
        },
        "outputId": "dd6b53de-6419-4775-af2c-d887a6b54571"
      },
      "source": [
        "MONET_FILENAMES = tf.io.gfile.glob('/content/monet*.tfrec')\n",
        "print(MONET_FILENAMES)\n",
        "PHOTO_FILENAMES = tf.io.gfile.glob('/content/photo*.tfrec')\n",
        "print(PHOTO_FILENAMES)"
      ],
      "execution_count": null,
      "outputs": [
        {
          "output_type": "stream",
          "name": "stdout",
          "text": [
            "['/content/monet08-60.tfrec', '/content/monet16-60.tfrec', '/content/monet00-60.tfrec', '/content/monet04-60.tfrec', '/content/monet12-60.tfrec']\n",
            "['/content/photo18-352.tfrec', '/content/photo11-352.tfrec', '/content/photo07-352.tfrec', '/content/photo06-352.tfrec', '/content/photo19-350.tfrec', '/content/photo10-352.tfrec', '/content/photo08-352.tfrec', '/content/photo14-352.tfrec', '/content/photo17-352.tfrec', '/content/photo09-352.tfrec', '/content/photo15-352.tfrec', '/content/photo05-352.tfrec', '/content/photo01-352.tfrec', '/content/photo03-352.tfrec', '/content/photo12-352.tfrec', '/content/photo13-352.tfrec', '/content/photo04-352.tfrec', '/content/photo02-352.tfrec', '/content/photo16-352.tfrec', '/content/photo00-352.tfrec']\n"
          ]
        }
      ]
    },
    {
      "cell_type": "code",
      "metadata": {
        "id": "q4CADjhHhSQb"
      },
      "source": [
        "IMAGE_SIZE = [256, 256]\n",
        "\n",
        "def decode_image(image):\n",
        "    image = tf.image.decode_jpeg(image, channels=3)\n",
        "    image = (tf.cast(image, tf.float32) / 127.5) - 1\n",
        "    image = tf.reshape(image, [*IMAGE_SIZE, 3])\n",
        "    return image\n",
        "\n",
        "def read_tfrecord(example):\n",
        "    tfrecord_format = {\n",
        "        \"image_name\": tf.io.FixedLenFeature([], tf.string),\n",
        "        \"image\": tf.io.FixedLenFeature([], tf.string),\n",
        "        \"target\": tf.io.FixedLenFeature([], tf.string)\n",
        "    }\n",
        "    example = tf.io.parse_single_example(example, tfrecord_format)\n",
        "    image = decode_image(example['image'])\n",
        "    return image\n",
        "\n",
        "def load_datasets(filenames, labeled = True, ordered = False):\n",
        "    datasets = tf.data.TFRecordDataset(filenames)\n",
        "    datasets = datasets.map(read_tfrecord, num_parallel_calls=AUTOTUNE)\n",
        "    return datasets\n"
      ],
      "execution_count": null,
      "outputs": []
    },
    {
      "cell_type": "code",
      "metadata": {
        "colab": {
          "base_uri": "https://localhost:8080/",
          "height": 432
        },
        "id": "jGmgozeQhjZo",
        "outputId": "73cb9197-7e2a-4a17-8977-319b9421db33"
      },
      "source": [
        "monet_ds = load_datasets(MONET_FILENAMES, labeled = True).batch(1)\n",
        "photo_ds = load_datasets(PHOTO_FILENAMES, labeled = True).batch(1)\n",
        "\n",
        "example_monet = next(iter(monet_ds))\n",
        "example_photo = next(iter(photo_ds))\n",
        "\n",
        "plt.subplot(1, 2, 1)\n",
        "plt.title('Photo')\n",
        "plt.imshow(example_photo[0] * 0.5 + 0.5)\n",
        "\n",
        "plt.subplot(1, 2, 2)\n",
        "plt.title('Monet')\n",
        "plt.imshow(example_monet[0] * 0.5 + 0.5)"
      ],
      "execution_count": null,
      "outputs": [
        {
          "output_type": "error",
          "ename": "UnimplementedError",
          "evalue": "ignored",
          "traceback": [
            "\u001b[0;31m---------------------------------------------------------------------------\u001b[0m",
            "\u001b[0;31mUnimplementedError\u001b[0m                        Traceback (most recent call last)",
            "\u001b[0;32m/usr/local/lib/python3.7/dist-packages/tensorflow/python/eager/context.py\u001b[0m in \u001b[0;36mexecution_mode\u001b[0;34m(mode)\u001b[0m\n\u001b[1;32m   2327\u001b[0m       \u001b[0mctx\u001b[0m\u001b[0;34m.\u001b[0m\u001b[0mexecutor\u001b[0m \u001b[0;34m=\u001b[0m \u001b[0mexecutor_new\u001b[0m\u001b[0;34m\u001b[0m\u001b[0;34m\u001b[0m\u001b[0m\n\u001b[0;32m-> 2328\u001b[0;31m       \u001b[0;32myield\u001b[0m\u001b[0;34m\u001b[0m\u001b[0;34m\u001b[0m\u001b[0m\n\u001b[0m\u001b[1;32m   2329\u001b[0m     \u001b[0;32mfinally\u001b[0m\u001b[0;34m:\u001b[0m\u001b[0;34m\u001b[0m\u001b[0;34m\u001b[0m\u001b[0m\n",
            "\u001b[0;32m/usr/local/lib/python3.7/dist-packages/tensorflow/python/data/ops/iterator_ops.py\u001b[0m in \u001b[0;36m_next_internal\u001b[0;34m(self)\u001b[0m\n\u001b[1;32m    789\u001b[0m         \u001b[0;31m# Fast path for the case `self._structure` is not a nested structure.\u001b[0m\u001b[0;34m\u001b[0m\u001b[0;34m\u001b[0m\u001b[0;34m\u001b[0m\u001b[0m\n\u001b[0;32m--> 790\u001b[0;31m         \u001b[0;32mreturn\u001b[0m \u001b[0mself\u001b[0m\u001b[0;34m.\u001b[0m\u001b[0m_element_spec\u001b[0m\u001b[0;34m.\u001b[0m\u001b[0m_from_compatible_tensor_list\u001b[0m\u001b[0;34m(\u001b[0m\u001b[0mret\u001b[0m\u001b[0;34m)\u001b[0m  \u001b[0;31m# pylint: disable=protected-access\u001b[0m\u001b[0;34m\u001b[0m\u001b[0;34m\u001b[0m\u001b[0m\n\u001b[0m\u001b[1;32m    791\u001b[0m       \u001b[0;32mexcept\u001b[0m \u001b[0mAttributeError\u001b[0m\u001b[0;34m:\u001b[0m\u001b[0;34m\u001b[0m\u001b[0;34m\u001b[0m\u001b[0m\n",
            "\u001b[0;32m/usr/local/lib/python3.7/dist-packages/tensorflow/python/framework/tensor_spec.py\u001b[0m in \u001b[0;36m_from_compatible_tensor_list\u001b[0;34m(self, tensor_list)\u001b[0m\n\u001b[1;32m    204\u001b[0m     \u001b[0;32massert\u001b[0m \u001b[0mlen\u001b[0m\u001b[0;34m(\u001b[0m\u001b[0mtensor_list\u001b[0m\u001b[0;34m)\u001b[0m \u001b[0;34m==\u001b[0m \u001b[0;36m1\u001b[0m\u001b[0;34m\u001b[0m\u001b[0;34m\u001b[0m\u001b[0m\n\u001b[0;32m--> 205\u001b[0;31m     \u001b[0mtensor_list\u001b[0m\u001b[0;34m[\u001b[0m\u001b[0;36m0\u001b[0m\u001b[0;34m]\u001b[0m\u001b[0;34m.\u001b[0m\u001b[0mset_shape\u001b[0m\u001b[0;34m(\u001b[0m\u001b[0mself\u001b[0m\u001b[0;34m.\u001b[0m\u001b[0m_shape\u001b[0m\u001b[0;34m)\u001b[0m\u001b[0;34m\u001b[0m\u001b[0;34m\u001b[0m\u001b[0m\n\u001b[0m\u001b[1;32m    206\u001b[0m     \u001b[0;32mreturn\u001b[0m \u001b[0mtensor_list\u001b[0m\u001b[0;34m[\u001b[0m\u001b[0;36m0\u001b[0m\u001b[0;34m]\u001b[0m\u001b[0;34m\u001b[0m\u001b[0;34m\u001b[0m\u001b[0m\n",
            "\u001b[0;32m/usr/local/lib/python3.7/dist-packages/tensorflow/python/framework/ops.py\u001b[0m in \u001b[0;36mset_shape\u001b[0;34m(self, shape)\u001b[0m\n\u001b[1;32m   1291\u001b[0m   \u001b[0;32mdef\u001b[0m \u001b[0mset_shape\u001b[0m\u001b[0;34m(\u001b[0m\u001b[0mself\u001b[0m\u001b[0;34m,\u001b[0m \u001b[0mshape\u001b[0m\u001b[0;34m)\u001b[0m\u001b[0;34m:\u001b[0m\u001b[0;34m\u001b[0m\u001b[0;34m\u001b[0m\u001b[0m\n\u001b[0;32m-> 1292\u001b[0;31m     \u001b[0;32mif\u001b[0m \u001b[0;32mnot\u001b[0m \u001b[0mself\u001b[0m\u001b[0;34m.\u001b[0m\u001b[0mshape\u001b[0m\u001b[0;34m.\u001b[0m\u001b[0mis_compatible_with\u001b[0m\u001b[0;34m(\u001b[0m\u001b[0mshape\u001b[0m\u001b[0;34m)\u001b[0m\u001b[0;34m:\u001b[0m\u001b[0;34m\u001b[0m\u001b[0;34m\u001b[0m\u001b[0m\n\u001b[0m\u001b[1;32m   1293\u001b[0m       raise ValueError(\n",
            "\u001b[0;32m/usr/local/lib/python3.7/dist-packages/tensorflow/python/framework/ops.py\u001b[0m in \u001b[0;36mshape\u001b[0;34m(self)\u001b[0m\n\u001b[1;32m   1252\u001b[0m         \u001b[0;31m# `EagerTensor`, in C.\u001b[0m\u001b[0;34m\u001b[0m\u001b[0;34m\u001b[0m\u001b[0;34m\u001b[0m\u001b[0m\n\u001b[0;32m-> 1253\u001b[0;31m         \u001b[0mself\u001b[0m\u001b[0;34m.\u001b[0m\u001b[0m_tensor_shape\u001b[0m \u001b[0;34m=\u001b[0m \u001b[0mtensor_shape\u001b[0m\u001b[0;34m.\u001b[0m\u001b[0mTensorShape\u001b[0m\u001b[0;34m(\u001b[0m\u001b[0mself\u001b[0m\u001b[0;34m.\u001b[0m\u001b[0m_shape_tuple\u001b[0m\u001b[0;34m(\u001b[0m\u001b[0;34m)\u001b[0m\u001b[0;34m)\u001b[0m\u001b[0;34m\u001b[0m\u001b[0;34m\u001b[0m\u001b[0m\n\u001b[0m\u001b[1;32m   1254\u001b[0m       \u001b[0;32mexcept\u001b[0m \u001b[0mcore\u001b[0m\u001b[0;34m.\u001b[0m\u001b[0m_NotOkStatusException\u001b[0m \u001b[0;32mas\u001b[0m \u001b[0me\u001b[0m\u001b[0;34m:\u001b[0m\u001b[0;34m\u001b[0m\u001b[0;34m\u001b[0m\u001b[0m\n",
            "\u001b[0;31mUnimplementedError\u001b[0m: File system scheme '[local]' not implemented (file: '/content/monet08-60.tfrec')",
            "\nDuring handling of the above exception, another exception occurred:\n",
            "\u001b[0;31mUnimplementedError\u001b[0m                        Traceback (most recent call last)",
            "\u001b[0;32m<ipython-input-14-86e1d55111bf>\u001b[0m in \u001b[0;36m<module>\u001b[0;34m()\u001b[0m\n\u001b[1;32m      2\u001b[0m \u001b[0mphoto_ds\u001b[0m \u001b[0;34m=\u001b[0m \u001b[0mload_datasets\u001b[0m\u001b[0;34m(\u001b[0m\u001b[0mPHOTO_FILENAMES\u001b[0m\u001b[0;34m,\u001b[0m \u001b[0mlabeled\u001b[0m \u001b[0;34m=\u001b[0m \u001b[0;32mTrue\u001b[0m\u001b[0;34m)\u001b[0m\u001b[0;34m.\u001b[0m\u001b[0mbatch\u001b[0m\u001b[0;34m(\u001b[0m\u001b[0;36m1\u001b[0m\u001b[0;34m)\u001b[0m\u001b[0;34m\u001b[0m\u001b[0;34m\u001b[0m\u001b[0m\n\u001b[1;32m      3\u001b[0m \u001b[0;34m\u001b[0m\u001b[0m\n\u001b[0;32m----> 4\u001b[0;31m \u001b[0mexample_monet\u001b[0m \u001b[0;34m=\u001b[0m \u001b[0mnext\u001b[0m\u001b[0;34m(\u001b[0m\u001b[0miter\u001b[0m\u001b[0;34m(\u001b[0m\u001b[0mmonet_ds\u001b[0m\u001b[0;34m)\u001b[0m\u001b[0;34m)\u001b[0m\u001b[0;34m\u001b[0m\u001b[0;34m\u001b[0m\u001b[0m\n\u001b[0m\u001b[1;32m      5\u001b[0m \u001b[0mexample_photo\u001b[0m \u001b[0;34m=\u001b[0m \u001b[0mnext\u001b[0m\u001b[0;34m(\u001b[0m\u001b[0miter\u001b[0m\u001b[0;34m(\u001b[0m\u001b[0mphoto_ds\u001b[0m\u001b[0;34m)\u001b[0m\u001b[0;34m)\u001b[0m\u001b[0;34m\u001b[0m\u001b[0;34m\u001b[0m\u001b[0m\n\u001b[1;32m      6\u001b[0m \u001b[0;34m\u001b[0m\u001b[0m\n",
            "\u001b[0;32m/usr/local/lib/python3.7/dist-packages/tensorflow/python/data/ops/iterator_ops.py\u001b[0m in \u001b[0;36m__next__\u001b[0;34m(self)\u001b[0m\n\u001b[1;32m    798\u001b[0m   \u001b[0;32mdef\u001b[0m \u001b[0m__next__\u001b[0m\u001b[0;34m(\u001b[0m\u001b[0mself\u001b[0m\u001b[0;34m)\u001b[0m\u001b[0;34m:\u001b[0m\u001b[0;34m\u001b[0m\u001b[0;34m\u001b[0m\u001b[0m\n\u001b[1;32m    799\u001b[0m     \u001b[0;32mtry\u001b[0m\u001b[0;34m:\u001b[0m\u001b[0;34m\u001b[0m\u001b[0;34m\u001b[0m\u001b[0m\n\u001b[0;32m--> 800\u001b[0;31m       \u001b[0;32mreturn\u001b[0m \u001b[0mself\u001b[0m\u001b[0;34m.\u001b[0m\u001b[0m_next_internal\u001b[0m\u001b[0;34m(\u001b[0m\u001b[0;34m)\u001b[0m\u001b[0;34m\u001b[0m\u001b[0;34m\u001b[0m\u001b[0m\n\u001b[0m\u001b[1;32m    801\u001b[0m     \u001b[0;32mexcept\u001b[0m \u001b[0merrors\u001b[0m\u001b[0;34m.\u001b[0m\u001b[0mOutOfRangeError\u001b[0m\u001b[0;34m:\u001b[0m\u001b[0;34m\u001b[0m\u001b[0;34m\u001b[0m\u001b[0m\n\u001b[1;32m    802\u001b[0m       \u001b[0;32mraise\u001b[0m \u001b[0mStopIteration\u001b[0m\u001b[0;34m\u001b[0m\u001b[0;34m\u001b[0m\u001b[0m\n",
            "\u001b[0;32m/usr/local/lib/python3.7/dist-packages/tensorflow/python/data/ops/iterator_ops.py\u001b[0m in \u001b[0;36m_next_internal\u001b[0;34m(self)\u001b[0m\n\u001b[1;32m    790\u001b[0m         \u001b[0;32mreturn\u001b[0m \u001b[0mself\u001b[0m\u001b[0;34m.\u001b[0m\u001b[0m_element_spec\u001b[0m\u001b[0;34m.\u001b[0m\u001b[0m_from_compatible_tensor_list\u001b[0m\u001b[0;34m(\u001b[0m\u001b[0mret\u001b[0m\u001b[0;34m)\u001b[0m  \u001b[0;31m# pylint: disable=protected-access\u001b[0m\u001b[0;34m\u001b[0m\u001b[0;34m\u001b[0m\u001b[0m\n\u001b[1;32m    791\u001b[0m       \u001b[0;32mexcept\u001b[0m \u001b[0mAttributeError\u001b[0m\u001b[0;34m:\u001b[0m\u001b[0;34m\u001b[0m\u001b[0;34m\u001b[0m\u001b[0m\n\u001b[0;32m--> 792\u001b[0;31m         \u001b[0;32mreturn\u001b[0m \u001b[0mstructure\u001b[0m\u001b[0;34m.\u001b[0m\u001b[0mfrom_compatible_tensor_list\u001b[0m\u001b[0;34m(\u001b[0m\u001b[0mself\u001b[0m\u001b[0;34m.\u001b[0m\u001b[0m_element_spec\u001b[0m\u001b[0;34m,\u001b[0m \u001b[0mret\u001b[0m\u001b[0;34m)\u001b[0m\u001b[0;34m\u001b[0m\u001b[0;34m\u001b[0m\u001b[0m\n\u001b[0m\u001b[1;32m    793\u001b[0m \u001b[0;34m\u001b[0m\u001b[0m\n\u001b[1;32m    794\u001b[0m   \u001b[0;34m@\u001b[0m\u001b[0mproperty\u001b[0m\u001b[0;34m\u001b[0m\u001b[0;34m\u001b[0m\u001b[0m\n",
            "\u001b[0;32m/usr/lib/python3.7/contextlib.py\u001b[0m in \u001b[0;36m__exit__\u001b[0;34m(self, type, value, traceback)\u001b[0m\n\u001b[1;32m    128\u001b[0m                 \u001b[0mvalue\u001b[0m \u001b[0;34m=\u001b[0m \u001b[0mtype\u001b[0m\u001b[0;34m(\u001b[0m\u001b[0;34m)\u001b[0m\u001b[0;34m\u001b[0m\u001b[0;34m\u001b[0m\u001b[0m\n\u001b[1;32m    129\u001b[0m             \u001b[0;32mtry\u001b[0m\u001b[0;34m:\u001b[0m\u001b[0;34m\u001b[0m\u001b[0;34m\u001b[0m\u001b[0m\n\u001b[0;32m--> 130\u001b[0;31m                 \u001b[0mself\u001b[0m\u001b[0;34m.\u001b[0m\u001b[0mgen\u001b[0m\u001b[0;34m.\u001b[0m\u001b[0mthrow\u001b[0m\u001b[0;34m(\u001b[0m\u001b[0mtype\u001b[0m\u001b[0;34m,\u001b[0m \u001b[0mvalue\u001b[0m\u001b[0;34m,\u001b[0m \u001b[0mtraceback\u001b[0m\u001b[0;34m)\u001b[0m\u001b[0;34m\u001b[0m\u001b[0;34m\u001b[0m\u001b[0m\n\u001b[0m\u001b[1;32m    131\u001b[0m             \u001b[0;32mexcept\u001b[0m \u001b[0mStopIteration\u001b[0m \u001b[0;32mas\u001b[0m \u001b[0mexc\u001b[0m\u001b[0;34m:\u001b[0m\u001b[0;34m\u001b[0m\u001b[0;34m\u001b[0m\u001b[0m\n\u001b[1;32m    132\u001b[0m                 \u001b[0;31m# Suppress StopIteration *unless* it's the same exception that\u001b[0m\u001b[0;34m\u001b[0m\u001b[0;34m\u001b[0m\u001b[0;34m\u001b[0m\u001b[0m\n",
            "\u001b[0;32m/usr/local/lib/python3.7/dist-packages/tensorflow/python/eager/context.py\u001b[0m in \u001b[0;36mexecution_mode\u001b[0;34m(mode)\u001b[0m\n\u001b[1;32m   2329\u001b[0m     \u001b[0;32mfinally\u001b[0m\u001b[0;34m:\u001b[0m\u001b[0;34m\u001b[0m\u001b[0;34m\u001b[0m\u001b[0m\n\u001b[1;32m   2330\u001b[0m       \u001b[0mctx\u001b[0m\u001b[0;34m.\u001b[0m\u001b[0mexecutor\u001b[0m \u001b[0;34m=\u001b[0m \u001b[0mexecutor_old\u001b[0m\u001b[0;34m\u001b[0m\u001b[0;34m\u001b[0m\u001b[0m\n\u001b[0;32m-> 2331\u001b[0;31m       \u001b[0mexecutor_new\u001b[0m\u001b[0;34m.\u001b[0m\u001b[0mwait\u001b[0m\u001b[0;34m(\u001b[0m\u001b[0;34m)\u001b[0m\u001b[0;34m\u001b[0m\u001b[0;34m\u001b[0m\u001b[0m\n\u001b[0m\u001b[1;32m   2332\u001b[0m \u001b[0;34m\u001b[0m\u001b[0m\n\u001b[1;32m   2333\u001b[0m \u001b[0;34m\u001b[0m\u001b[0m\n",
            "\u001b[0;32m/usr/local/lib/python3.7/dist-packages/tensorflow/python/eager/executor.py\u001b[0m in \u001b[0;36mwait\u001b[0;34m(self)\u001b[0m\n\u001b[1;32m     67\u001b[0m   \u001b[0;32mdef\u001b[0m \u001b[0mwait\u001b[0m\u001b[0;34m(\u001b[0m\u001b[0mself\u001b[0m\u001b[0;34m)\u001b[0m\u001b[0;34m:\u001b[0m\u001b[0;34m\u001b[0m\u001b[0;34m\u001b[0m\u001b[0m\n\u001b[1;32m     68\u001b[0m     \u001b[0;34m\"\"\"Waits for ops dispatched in this executor to finish.\"\"\"\u001b[0m\u001b[0;34m\u001b[0m\u001b[0;34m\u001b[0m\u001b[0m\n\u001b[0;32m---> 69\u001b[0;31m     \u001b[0mpywrap_tfe\u001b[0m\u001b[0;34m.\u001b[0m\u001b[0mTFE_ExecutorWaitForAllPendingNodes\u001b[0m\u001b[0;34m(\u001b[0m\u001b[0mself\u001b[0m\u001b[0;34m.\u001b[0m\u001b[0m_handle\u001b[0m\u001b[0;34m)\u001b[0m\u001b[0;34m\u001b[0m\u001b[0;34m\u001b[0m\u001b[0m\n\u001b[0m\u001b[1;32m     70\u001b[0m \u001b[0;34m\u001b[0m\u001b[0m\n\u001b[1;32m     71\u001b[0m   \u001b[0;32mdef\u001b[0m \u001b[0mclear_error\u001b[0m\u001b[0;34m(\u001b[0m\u001b[0mself\u001b[0m\u001b[0;34m)\u001b[0m\u001b[0;34m:\u001b[0m\u001b[0;34m\u001b[0m\u001b[0;34m\u001b[0m\u001b[0m\n",
            "\u001b[0;31mUnimplementedError\u001b[0m: File system scheme '[local]' not implemented (file: '/content/monet08-60.tfrec')"
          ]
        }
      ]
    },
    {
      "cell_type": "code",
      "metadata": {
        "id": "fuIFR37vkfkS"
      },
      "source": [
        "OUTPUT_CHANNELS = 3\n",
        "\n",
        "def downsample(filters, size, apply_instancenorm = True):\n",
        "    initializer = tf.random_normal_initializer(0.0, 0.2)\n",
        "    gamma_init = keras.initializers.RandomNormal(mean = 0.0, stddev = 0.2)\n",
        "\n",
        "    result = keras.Sequential()\n",
        "    result.add(layers.Conv2D(filters, size, strides = 2, padding ='same',\n",
        "                             kernel_initializer = initializer, use_bias = False))\n",
        "    \n",
        "    if apply_instancenorm:\n",
        "        result.add(tfa.layers.InstanceNormalization(gamma_initializer = gamma_init))\n",
        "\n",
        "    result.add(layers.LeakyReLU())\n",
        "    return result\n",
        "\n",
        "def upsample(filters, size, apply_dropout = False):\n",
        "    initializer = tf.random_normal_initializer(0.0, 0.2)\n",
        "    gamma_init = keras.initializers.RandomNormal(mean = 0.0, stddev = 0.2)\n",
        "\n",
        "    result = keras.Sequential()\n",
        "    result.add(layers.Conv2DTranspose(filters, size, strides = 2, padding ='same',\n",
        "                             kernel_initializer = initializer, use_bias = False))\n",
        "    \n",
        "    result.add(tfa.layers.InstanceNormalization(gamma_initializer = gamma_init))\n",
        "\n",
        "    if apply_dropout:\n",
        "        result.add(layers.Dropout(0.5))\n",
        "\n",
        "    result.add(layers.ReLU())\n",
        "    return result"
      ],
      "execution_count": null,
      "outputs": []
    },
    {
      "cell_type": "markdown",
      "metadata": {
        "id": "z3Wlh2DIfbUy"
      },
      "source": [
        "Generator implemented using U-NET"
      ]
    },
    {
      "cell_type": "code",
      "metadata": {
        "id": "GGrq3UcVfZ9v"
      },
      "source": [
        "def Generator():\n",
        "    inputs = layers.Input(shape = [256, 256, 3])\n",
        "\n",
        "    down_stack = [\n",
        "            downsample(64, 4, apply_instancenorm=False),\n",
        "            downsample(128, 4),\n",
        "            downsample(256, 4),\n",
        "            downsample(512, 4),\n",
        "            downsample(512, 4),\n",
        "            downsample(512, 4)\n",
        "    ]\n",
        "\n",
        "    up_stack = [\n",
        "            upsample(512, 4, apply_dropout=True),\n",
        "            upsample(512, 4, apply_dropout=True),\n",
        "            upsample(512, 4, apply_dropout=True),\n",
        "            upsample(256, 4),\n",
        "            upsample(128, 4),\n",
        "            upsample(64, 4)\n",
        "    ]\n",
        "\n",
        "    initializer = tf.random_normal_initializer(0.0, 0.2)\n",
        "    last = layers.Conv2DTranspose(OUTPUT_CHANNELS, 4, strides = 2,\n",
        "                                  padding = 'same', \n",
        "                                  kernel_initializer = initializer,\n",
        "                                  activation = 'tanh')\n",
        "    \n",
        "    x = inputs\n",
        "\n",
        "    skip = []\n",
        "    for down in down_stack:\n",
        "        x = down(x)\n",
        "        skip.append(x)\n",
        "\n",
        "    skip = reversed(skip[:-1])\n",
        "\n",
        "    for up, skip in zip(up_stack, skip):\n",
        "        x = up(x)\n",
        "        x = layers.Concatenate()([x, skip])\n",
        "\n",
        "    x = last(x)\n",
        "    \n",
        "    return keras.Model(inputs = inputs, outputs = x)"
      ],
      "execution_count": null,
      "outputs": []
    },
    {
      "cell_type": "markdown",
      "metadata": {
        "id": "urFz6SOS-YqH"
      },
      "source": [
        "Discriminator"
      ]
    },
    {
      "cell_type": "code",
      "metadata": {
        "id": "EQrMLuT8tQQU"
      },
      "source": [
        "def Discriminator():\n",
        "    inputs = layers.Input(shape = [256, 256, 3], name = 'input_image')\n",
        "\n",
        "    initializer = tf.random_normal_initializer(0.0, 0.2)\n",
        "    gamma_init = keras.initializers.RandomNormal(mean = 0.0, stddev = 0.2)\n",
        "\n",
        "    x = inputs\n",
        "    down1 = downsample(64, 4, False)(x)\n",
        "    down2 = downsample(128, 4)(down1)\n",
        "    down3 = downsample(256, 4)(down2)\n",
        "\n",
        "    zero_pad1 = layers.ZeroPadding2D()(down3)\n",
        "\n",
        "    conv = layers.Conv2D(512, 4, strides = 1,\n",
        "                         kernel_initializer = initializer,\n",
        "                         use_bias = False) (zero_pad1)\n",
        "\n",
        "    norm1 = tfa.layers.InstanceNormalization(gamma_initializer = gamma_init)(conv)\n",
        "\n",
        "    relu = layers.ReLU()(norm1)\n",
        "\n",
        "    zero_pad2 = layers.ZeroPadding2D()(down3)\n",
        "\n",
        "    last = layers.Conv2DTranspose(1, 4, strides = 1,\n",
        "                                  kernel_initializer = initializer)(zero_pad2)\n",
        "\n",
        "    return keras.Model(inputs = inputs, outputs = last)\n"
      ],
      "execution_count": null,
      "outputs": []
    },
    {
      "cell_type": "markdown",
      "metadata": {
        "id": "TiSOa4LtL31L"
      },
      "source": [
        "Defining the CycleGAN Model unction and Visualizing"
      ]
    },
    {
      "cell_type": "code",
      "metadata": {
        "id": "AkYcnGP7-X1x"
      },
      "source": [
        "with strategy.scope():\n",
        "    monet_generator = Generator()\n",
        "    monet_discriminator = Discriminator()\n",
        "\n",
        "    photo_generator = Generator()\n",
        "    photo_discriminator = Discriminator()"
      ],
      "execution_count": null,
      "outputs": []
    },
    {
      "cell_type": "code",
      "metadata": {
        "id": "Af3krhdB-u5B"
      },
      "source": [
        "to_monet = monet_generator(example_photo)\n",
        "\n",
        "plt.subplot(1, 2, 1)\n",
        "plt.title('Photo')\n",
        "plt.imshow(example_photo[0] * 0.5 + 0.5)\n",
        "\n",
        "plt.subplot(1, 2, 2)\n",
        "plt.title('Monet')\n",
        "plt.imshow(to_monet[0] * 0.5 + 0.5)"
      ],
      "execution_count": null,
      "outputs": []
    },
    {
      "cell_type": "markdown",
      "metadata": {
        "id": "Ci1pnuQ1LtwR"
      },
      "source": [
        "Defining Custom Class for The CycleGAN model"
      ]
    },
    {
      "cell_type": "code",
      "metadata": {
        "id": "yzw2AaIB_GNi"
      },
      "source": [
        "class CycleGAN(keras.Model):\n",
        "    def __init__(self, monet_gen, monet_dis, photo_gen, photo_dis, lambda_cycle = 10):\n",
        "        super(CycleGAN, self).__init__()\n",
        "        self.monet_gen = monet_gen\n",
        "        self.monet_dis = monet_dis\n",
        "        self.photo_gen = photo_gen\n",
        "        self.photo_dis = photo_dis\n",
        "        self.lambda_cycle = lambda_cycle\n",
        "\n",
        "    def compile(self, monet_gen_opt, monet_dis_opt, photo_gen_opt, photo_dis_opt,\n",
        "                gen_lf, dis_lf, cycle_lf, identity_lf):\n",
        "        super(CycleGAN, self).compile()\n",
        "        self.monet_gen_opt = monet_gen_opt\n",
        "        self.monet_dis_opt = monet_dis_opt\n",
        "        self.photo_gen_opt = photo_gen_opt\n",
        "        self.photo_dis_opt = photo_dis_opt\n",
        "        self.gen_lf = gen_lf\n",
        "        self.dis_lf = dis_lf\n",
        "        self.cycle_lf = cycle_lf\n",
        "        self.identity_lf = identity_lf\n",
        "\n",
        "    def train_step(self, batch_data):\n",
        "        real_monet, real_photo = batch_data\n",
        "        with tf.GradientTape(persistent=True) as tape:\n",
        "            fake_monet = self.monet_gen(real_photo, training=True)\n",
        "            cycled_photo = self.photo_gen(fake_monet, training=True)\n",
        "\n",
        "            fake_photo = self.photo_gen(real_monet, training=True)\n",
        "            cycled_monet = self.monet_gen(fake_photo, training=True)\n",
        "\n",
        "            same_monet = self.monet_gen(real_monet, training=True)\n",
        "            same_photo = self.photo_gen(real_photo, training=True)\n",
        "\n",
        "            real_monet_dis = self.monet_dis(real_monet, training=True)\n",
        "            real_photo_dis = self.monet_dis(real_photo, training=True)\n",
        "\n",
        "            fake_monet_dis = self.monet_dis(fake_monet, training=True)\n",
        "            fake_photo_dis = self.photo_dis(fake_photo, training=True)\n",
        "\n",
        "            monet_gen_loss = self.gen_lf(fake_monet_dis)\n",
        "            photo_gen_loss = self.gen_lf(fake_photo_dis)\n",
        "\n",
        "            total_cycle_loss = self.cycle_lf(real_monet, cycled_monet, self.lambda_cycle) + self.cycle_lf(real_photo, cycled_photo, self.lambda_cycle)\n",
        "\n",
        "            total_monet_gen_loss =  monet_gen_loss + total_cycle_loss + self.identity_lf(real_monet, same_monet, self.lambda_cycle)\n",
        "            total_photo_gen_loss =  photo_gen_loss + total_cycle_loss + self.identity_lf(real_photo, same_photo, self.lambda_cycle)\n",
        "\n",
        "            monet_dis_loss = self.dis_lf(real_monet_dis, fake_monet_dis)\n",
        "            photo_dis_loss = self.dis_lf(real_photo_dis, fake_photo_dis)\n",
        "\n",
        "            monet_dis_grad = tape.gradient(monet_dis_loss, self.monet_dis.trainable_variables)\n",
        "            photo_dis_grad = tape.gradient(photo_dis_loss, self.photo_dis.trainable_variables)\n",
        "\n",
        "            monet_gen_grad = tape.gradient(total_monet_gen_loss, self.monet_gen.trainable_variables)\n",
        "            photo_gen_grad = tape.gradient(total_photo_gen_loss, self.photo_gen.trainable_variables)\n",
        "\n",
        "            self.monet_gen_opt.apply_gradients(zip(monet_gen_grad, self.monet_gen.trainable_variables))\n",
        "            self.photo_gen_opt.apply_gradients(zip(photo_gen_grad, self.photo_gen.trainable_variables))\n",
        "\n",
        "            self.monet_dis_opt.apply_gradients(zip(monet_dis_grad, self.monet_dis.trainable_variables))\n",
        "            self.photo_dis_opt.apply_gradients(zip(photo_dis_grad, self.photo_dis.trainable_variables))\n",
        "\n",
        "            return {\n",
        "                \"monet gen loss\":total_monet_gen_loss,\n",
        "                \"monet dis loss\":monet_dis_loss,\n",
        "                \"photo gen loss\":total_photo_gen_loss,\n",
        "                \"photo dis loss\":photo_dis_loss \n",
        "            }\n",
        "            \n"
      ],
      "execution_count": null,
      "outputs": []
    },
    {
      "cell_type": "markdown",
      "metadata": {
        "id": "RqBTW8B8LrNq"
      },
      "source": [
        "Loss function"
      ]
    },
    {
      "cell_type": "code",
      "metadata": {
        "id": "y2KQunLs8kMZ"
      },
      "source": [
        "with strategy.scope():\n",
        "    def discriminator_loss(real, generated):\n",
        "        real_loss = tf.keras.losses.BinaryCrossentropy(from_logits=True, reduction=tf.keras.losses.Reduction.NONE)(tf.ones_like(real), real)\n",
        "        generated_loss = tf.keras.losses.BinaryCrossentropy(from_logits=True, reduction=tf.keras.losses.Reduction.NONE)(tf.zeros_like(generated), generated)\n",
        "\n",
        "        total_loss = 0.5*(generated_loss + real_loss)\n",
        "        return total_loss\n",
        "\n",
        "    def generator_loss(generated):\n",
        "        return tf.keras.losses.BinaryCrossentropy(from_logits=True, reduction=tf.keras.losses.Reduction.NONE)(tf.ones_like(generated), generated)\n",
        "\n",
        "    def cycle_loss(real, cycled, LAMBDA):\n",
        "        return (LAMBDA * tf.reduce_mean(tf.abs(real - cycled)))\n",
        "\n",
        "    def identity_loss(real, same, LAMBDA):\n",
        "        return (0.5 * LAMBDA * tf.reduce_mean(tf.abs(real - same)))\n"
      ],
      "execution_count": null,
      "outputs": []
    },
    {
      "cell_type": "code",
      "metadata": {
        "id": "FHvXvs06-Ds1"
      },
      "source": [
        "with strategy.scope():\n",
        "    monet_generator_opt = tf.keras.optimizers.Adam(2e-4)\n",
        "    monet_discriminator_opt = tf.keras.optimizers.Adam(2e-4)\n",
        "\n",
        "    photo_generator_opt = tf.keras.optimizers.Adam(2e-4)\n",
        "    photo_discriminator_opt = tf.keras.optimizers.Adam(2e-4)"
      ],
      "execution_count": null,
      "outputs": []
    },
    {
      "cell_type": "code",
      "metadata": {
        "id": "oL4rTURu_MsI"
      },
      "source": [
        "with strategy.scope():   \n",
        "    \n",
        "    CycleGAN_model = CycleGAN(monet_generator, monet_discriminator, photo_generator, photo_discriminator)\n",
        "\n",
        "    CycleGAN_model.compile(monet_gen_opt = monet_generator_opt,\n",
        "                           monet_dis_opt = monet_discriminator_opt,\n",
        "                           photo_gen_opt = photo_generator_opt,\n",
        "                           photo_dis_opt = photo_discriminator_opt,\n",
        "                           gen_lf = generator_loss,\n",
        "                           dis_lf = discriminator_loss,\n",
        "                           cycle_lf = cycle_loss,\n",
        "                           identity_lf = identity_loss)\n"
      ],
      "execution_count": null,
      "outputs": []
    },
    {
      "cell_type": "markdown",
      "metadata": {
        "id": "1M_RWQo6Poou"
      },
      "source": [
        "Training"
      ]
    },
    {
      "cell_type": "code",
      "metadata": {
        "id": "loXtkj2Mr9oZ"
      },
      "source": [
        "checkpoint_path = \"/content/gdrive/MyDrive/Machine Learning/CycleGAN Monet/cp.ckpt\"\n",
        "checkpoint_dir = os.path.dirname(checkpoint_path)\n",
        "\n",
        "cp_callback = tf.keras.callbacks.ModelCheckpoint(filepath=checkpoint_path,\n",
        "                                                 save_weights_only=True,\n",
        "                                                 verbose=1)"
      ],
      "execution_count": null,
      "outputs": []
    },
    {
      "cell_type": "code",
      "metadata": {
        "id": "xeUYpn18_MxW"
      },
      "source": [
        "latest = tf.train.latest_checkpoint(checkpoint_dir)\n",
        "if latest:\n",
        "    CycleGAN_model.load_weights(latest)\n",
        "\n",
        "CycleGAN_model.fit(\n",
        "    tf.data.Dataset.zip((monet_ds, photo_ds)),\n",
        "    epochs = 5,\n",
        "    callbacks=[cp_callback]\n",
        ")\n",
        "CycleGAN_model.save('/content/gdrive/MyDrive/Machine Learning/CycleGAN Monet/my_model') "
      ],
      "execution_count": null,
      "outputs": []
    },
    {
      "cell_type": "markdown",
      "metadata": {
        "id": "LCS_SjH7YZMT"
      },
      "source": [
        "Visualizing"
      ]
    },
    {
      "cell_type": "code",
      "metadata": {
        "id": "cmpmJF6ZtfNz"
      },
      "source": [
        "if latest:\n",
        "    CycleGAN_model.load_weights(latest)\n",
        "\n",
        "_, ax = plt.subplots(5, 2, figsize=(12, 12))\n",
        "for i, img in enumerate(photo_ds.take(5)):\n",
        "    prediction = monet_generator(img, training=False)[0].numpy()\n",
        "    prediction = (prediction * 127.5 + 127.5).astype(np.uint8)\n",
        "    img = (img[0] * 127.5 + 127.5).numpy().astype(np.uint8)\n",
        "\n",
        "    ax[i, 0].imshow(img)\n",
        "    ax[i, 1].imshow(prediction)\n",
        "    ax[i, 0].set_title(\"Input Photo\")\n",
        "    ax[i, 1].set_title(\"Monet-esque\")\n",
        "    ax[i, 0].axis(\"off\")\n",
        "    ax[i, 1].axis(\"off\")\n",
        "plt.show()"
      ],
      "execution_count": null,
      "outputs": []
    }
  ]
}